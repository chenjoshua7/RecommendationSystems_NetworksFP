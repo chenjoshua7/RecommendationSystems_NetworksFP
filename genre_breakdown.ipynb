{
 "cells": [
  {
   "cell_type": "code",
   "execution_count": 2,
   "metadata": {},
   "outputs": [],
   "source": [
    "import pandas as pd\n",
    "import numpy as np\n",
    "import os\n",
    "import re\n",
    "\n",
    "import seaborn as sns\n",
    "import matplotlib.pyplot as plt"
   ]
  },
  {
   "cell_type": "code",
   "execution_count": 3,
   "metadata": {},
   "outputs": [],
   "source": [
    "movies = pd.read_csv('data/movies.csv')"
   ]
  },
  {
   "cell_type": "code",
   "execution_count": 4,
   "metadata": {},
   "outputs": [],
   "source": [
    "def flatten(xss):\n",
    "    return [x for xs in xss for x in xs]"
   ]
  },
  {
   "cell_type": "code",
   "execution_count": 5,
   "metadata": {},
   "outputs": [
    {
     "name": "stdout",
     "output_type": "stream",
     "text": [
      "Genres {'Romance', 'Horror', 'Action', 'Western', '(no genres listed)', 'Animation', 'Thriller', 'Mystery', 'Crime', 'Comedy', 'IMAX', 'Documentary', 'Children', 'Fantasy', 'Sci-Fi', 'Adventure', 'War', 'Musical', 'Drama', 'Film-Noir'}\n"
     ]
    }
   ],
   "source": [
    "raw_genres = movies['genres'].unique()\n",
    "genres = set(flatten([item.split('|') for item in raw_genres]))\n",
    "print('Genres', genres)"
   ]
  },
  {
   "cell_type": "code",
   "execution_count": 6,
   "metadata": {},
   "outputs": [],
   "source": [
    "genre_counts = movies.iloc[:, 4:].sum()  # Assuming genre columns start from the 5th column\n",
    "genre_counts_df = pd.DataFrame({'Genre': genre_counts.index, 'Count': genre_counts.values})"
   ]
  },
  {
   "cell_type": "markdown",
   "metadata": {},
   "source": [
    "## Splitting up DF"
   ]
  },
  {
   "cell_type": "code",
   "execution_count": 7,
   "metadata": {},
   "outputs": [],
   "source": [
    "def extractGenre(data, genre, column=\"genres\"):\n",
    "    solution = []\n",
    "    for i in range(len(data)):\n",
    "        if genre in data.loc[i, column]:\n",
    "            solution.append(data.loc[i, :])\n",
    "    return pd.DataFrame(solution)"
   ]
  },
  {
   "cell_type": "code",
   "execution_count": 13,
   "metadata": {},
   "outputs": [],
   "source": [
    "genre_dataframes = {}\n",
    "\n",
    "\n",
    "for genre in genres:\n",
    "    genre_dataframes[genre] = extractGenre(movies, genre)\n",
    "    \n",
    "for genre, dataframe in genre_dataframes.items():\n",
    "    globals()[f\"{genre.lower()}_movies\"] = dataframe\n",
    "    dataframe.to_csv(f\"genre_data/{genre.lower()}_movies.csv\", index=False)"
   ]
  },
  {
   "cell_type": "markdown",
   "metadata": {},
   "source": [
    "# Splitting people up"
   ]
  },
  {
   "cell_type": "code",
   "execution_count": 11,
   "metadata": {},
   "outputs": [],
   "source": [
    "ratings = pd.read_csv(\"data/ratings.csv\")"
   ]
  },
  {
   "cell_type": "code",
   "execution_count": 47,
   "metadata": {},
   "outputs": [
    {
     "data": {
      "text/html": [
       "<div>\n",
       "<style scoped>\n",
       "    .dataframe tbody tr th:only-of-type {\n",
       "        vertical-align: middle;\n",
       "    }\n",
       "\n",
       "    .dataframe tbody tr th {\n",
       "        vertical-align: top;\n",
       "    }\n",
       "\n",
       "    .dataframe thead th {\n",
       "        text-align: right;\n",
       "    }\n",
       "</style>\n",
       "<table border=\"1\" class=\"dataframe\">\n",
       "  <thead>\n",
       "    <tr style=\"text-align: right;\">\n",
       "      <th></th>\n",
       "      <th>reviewCount</th>\n",
       "    </tr>\n",
       "    <tr>\n",
       "      <th>userId</th>\n",
       "      <th></th>\n",
       "    </tr>\n",
       "  </thead>\n",
       "  <tbody>\n",
       "    <tr>\n",
       "      <th>1</th>\n",
       "      <td>232</td>\n",
       "    </tr>\n",
       "    <tr>\n",
       "      <th>2</th>\n",
       "      <td>29</td>\n",
       "    </tr>\n",
       "    <tr>\n",
       "      <th>3</th>\n",
       "      <td>39</td>\n",
       "    </tr>\n",
       "    <tr>\n",
       "      <th>4</th>\n",
       "      <td>216</td>\n",
       "    </tr>\n",
       "    <tr>\n",
       "      <th>5</th>\n",
       "      <td>44</td>\n",
       "    </tr>\n",
       "    <tr>\n",
       "      <th>...</th>\n",
       "      <td>...</td>\n",
       "    </tr>\n",
       "    <tr>\n",
       "      <th>606</th>\n",
       "      <td>1115</td>\n",
       "    </tr>\n",
       "    <tr>\n",
       "      <th>607</th>\n",
       "      <td>187</td>\n",
       "    </tr>\n",
       "    <tr>\n",
       "      <th>608</th>\n",
       "      <td>831</td>\n",
       "    </tr>\n",
       "    <tr>\n",
       "      <th>609</th>\n",
       "      <td>37</td>\n",
       "    </tr>\n",
       "    <tr>\n",
       "      <th>610</th>\n",
       "      <td>1302</td>\n",
       "    </tr>\n",
       "  </tbody>\n",
       "</table>\n",
       "<p>610 rows × 1 columns</p>\n",
       "</div>"
      ],
      "text/plain": [
       "        reviewCount\n",
       "userId             \n",
       "1               232\n",
       "2                29\n",
       "3                39\n",
       "4               216\n",
       "5                44\n",
       "...             ...\n",
       "606            1115\n",
       "607             187\n",
       "608             831\n",
       "609              37\n",
       "610            1302\n",
       "\n",
       "[610 rows x 1 columns]"
      ]
     },
     "execution_count": 47,
     "metadata": {},
     "output_type": "execute_result"
    }
   ],
   "source": [
    "ratings_summary = ratings.groupby(\"userId\").agg({\"movieId\": \"count\"})\n",
    "ratings_summary = ratings_summary.rename(columns={\"movieId\": \"reviewCount\"})\n",
    "ratings_summary\n"
   ]
  },
  {
   "cell_type": "code",
   "execution_count": 22,
   "metadata": {},
   "outputs": [],
   "source": [
    "genres.remove(\"(no genres listed)\")"
   ]
  },
  {
   "cell_type": "code",
   "execution_count": 34,
   "metadata": {},
   "outputs": [],
   "source": [
    "def summarize_by_genre(genre_df, data=ratings):\n",
    "    merged_data = data.merge(genre_df, how=\"inner\", on=\"movieId\")\n",
    "\n",
    "    # Group by userId and calculate average ratings and associated movieId\n",
    "    summary_df = merged_data.groupby('userId').agg({\n",
    "        'rating': 'mean',\n",
    "        'movieId': 'count'\n",
    "    }).reset_index()\n",
    "    return summary_df"
   ]
  },
  {
   "cell_type": "code",
   "execution_count": 50,
   "metadata": {},
   "outputs": [],
   "source": [
    "genre_by_user = {}\n",
    "\n",
    "for genre in genres:\n",
    "    summary_df = summarize_by_genre(globals()[f\"{genre.lower()}_movies\"], ratings)\n",
    "    summary_df = summary_df.merge(ratings_summary, how = \"inner\", on = \"userId\")\n",
    "    genre_by_user[genre] = summary_df"
   ]
  },
  {
   "cell_type": "code",
   "execution_count": 53,
   "metadata": {},
   "outputs": [],
   "source": [
    "for genre, dataframe in genre_by_user.items():\n",
    "    globals()[f\"{genre.lower()}_users\"] = dataframe\n",
    "    dataframe.to_csv(f\"genre_data/{genre.lower()}_users.csv\", index=False)"
   ]
  },
  {
   "cell_type": "code",
   "execution_count": null,
   "metadata": {},
   "outputs": [],
   "source": []
  }
 ],
 "metadata": {
  "kernelspec": {
   "display_name": "uni",
   "language": "python",
   "name": "python3"
  },
  "language_info": {
   "codemirror_mode": {
    "name": "ipython",
    "version": 3
   },
   "file_extension": ".py",
   "mimetype": "text/x-python",
   "name": "python",
   "nbconvert_exporter": "python",
   "pygments_lexer": "ipython3",
   "version": "3.11.5"
  }
 },
 "nbformat": 4,
 "nbformat_minor": 2
}
