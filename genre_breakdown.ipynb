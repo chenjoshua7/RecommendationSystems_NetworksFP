{
 "cells": [
  {
   "cell_type": "code",
   "execution_count": 31,
   "metadata": {},
   "outputs": [],
   "source": [
    "import pandas as pd\n",
    "import numpy as np\n",
    "import os\n",
    "import re\n",
    "\n",
    "import seaborn as sns\n",
    "import matplotlib.pyplot as plt"
   ]
  },
  {
   "cell_type": "code",
   "execution_count": 32,
   "metadata": {},
   "outputs": [],
   "source": [
    "movies = pd.read_csv('data/movies.csv')"
   ]
  },
  {
   "cell_type": "code",
   "execution_count": 33,
   "metadata": {},
   "outputs": [],
   "source": [
    "def flatten(xss):\n",
    "    return [x for xs in xss for x in xs]"
   ]
  },
  {
   "cell_type": "code",
   "execution_count": 34,
   "metadata": {},
   "outputs": [
    {
     "name": "stdout",
     "output_type": "stream",
     "text": [
      "Genres {'War', 'Animation', 'Action', 'Musical', '(no genres listed)', 'Film-Noir', 'Romance', 'Mystery', 'Documentary', 'Horror', 'Sci-Fi', 'Adventure', 'Children', 'IMAX', 'Drama', 'Fantasy', 'Comedy', 'Crime', 'Western', 'Thriller'}\n"
     ]
    }
   ],
   "source": [
    "raw_genres = movies['genres'].unique()\n",
    "genres = set(flatten([item.split('|') for item in raw_genres]))\n",
    "print('Genres', genres)"
   ]
  },
  {
   "cell_type": "code",
   "execution_count": 35,
   "metadata": {},
   "outputs": [],
   "source": [
    "genre_counts = movies.iloc[:, 4:].sum()  # Assuming genre columns start from the 5th column\n",
    "genre_counts_df = pd.DataFrame({'Genre': genre_counts.index, 'Count': genre_counts.values})"
   ]
  },
  {
   "cell_type": "markdown",
   "metadata": {},
   "source": [
    "## Splitting up DF"
   ]
  },
  {
   "cell_type": "code",
   "execution_count": 36,
   "metadata": {},
   "outputs": [],
   "source": [
    "def extractGenre(data, genre, column=\"genres\"):\n",
    "    solution = []\n",
    "    for i in range(len(data)):\n",
    "        if genre in data.loc[i, column]:\n",
    "            solution.append(data.loc[i, :])\n",
    "    return pd.DataFrame(solution)"
   ]
  },
  {
   "cell_type": "code",
   "execution_count": 37,
   "metadata": {},
   "outputs": [],
   "source": [
    "genre_dataframes = {}\n",
    "\n",
    "for genre in genres:\n",
    "    genre_dataframes[genre] = extractGenre(movies, genre)\n",
    "    \n",
    "for genre, dataframe in genre_dataframes.items():\n",
    "    globals()[f\"{genre.lower()}_movies\"] = dataframe\n",
    "    dataframe.to_csv(f\"genre_data/{genre.lower()}_movies.csv\", index=False)"
   ]
  },
  {
   "cell_type": "code",
   "execution_count": 38,
   "metadata": {},
   "outputs": [
    {
     "data": {
      "text/html": [
       "<div>\n",
       "<style scoped>\n",
       "    .dataframe tbody tr th:only-of-type {\n",
       "        vertical-align: middle;\n",
       "    }\n",
       "\n",
       "    .dataframe tbody tr th {\n",
       "        vertical-align: top;\n",
       "    }\n",
       "\n",
       "    .dataframe thead th {\n",
       "        text-align: right;\n",
       "    }\n",
       "</style>\n",
       "<table border=\"1\" class=\"dataframe\">\n",
       "  <thead>\n",
       "    <tr style=\"text-align: right;\">\n",
       "      <th></th>\n",
       "      <th>movieId</th>\n",
       "      <th>title</th>\n",
       "      <th>genres</th>\n",
       "    </tr>\n",
       "  </thead>\n",
       "  <tbody>\n",
       "    <tr>\n",
       "      <th>37</th>\n",
       "      <td>41</td>\n",
       "      <td>Richard III (1995)</td>\n",
       "      <td>Drama|War</td>\n",
       "    </tr>\n",
       "    <tr>\n",
       "      <th>65</th>\n",
       "      <td>73</td>\n",
       "      <td>Misérables, Les (1995)</td>\n",
       "      <td>Drama|War</td>\n",
       "    </tr>\n",
       "    <tr>\n",
       "      <th>97</th>\n",
       "      <td>110</td>\n",
       "      <td>Braveheart (1995)</td>\n",
       "      <td>Action|Drama|War</td>\n",
       "    </tr>\n",
       "    <tr>\n",
       "      <th>124</th>\n",
       "      <td>151</td>\n",
       "      <td>Rob Roy (1995)</td>\n",
       "      <td>Action|Drama|Romance|War</td>\n",
       "    </tr>\n",
       "    <tr>\n",
       "      <th>128</th>\n",
       "      <td>155</td>\n",
       "      <td>Beyond Rangoon (1995)</td>\n",
       "      <td>Adventure|Drama|War</td>\n",
       "    </tr>\n",
       "    <tr>\n",
       "      <th>130</th>\n",
       "      <td>157</td>\n",
       "      <td>Canadian Bacon (1995)</td>\n",
       "      <td>Comedy|War</td>\n",
       "    </tr>\n",
       "    <tr>\n",
       "      <th>134</th>\n",
       "      <td>161</td>\n",
       "      <td>Crimson Tide (1995)</td>\n",
       "      <td>Drama|Thriller|War</td>\n",
       "    </tr>\n",
       "    <tr>\n",
       "      <th>182</th>\n",
       "      <td>214</td>\n",
       "      <td>Before the Rain (Pred dozhdot) (1994)</td>\n",
       "      <td>Drama|War</td>\n",
       "    </tr>\n",
       "    <tr>\n",
       "      <th>229</th>\n",
       "      <td>266</td>\n",
       "      <td>Legends of the Fall (1994)</td>\n",
       "      <td>Drama|Romance|War|Western</td>\n",
       "    </tr>\n",
       "    <tr>\n",
       "      <th>294</th>\n",
       "      <td>336</td>\n",
       "      <td>Walking Dead, The (1995)</td>\n",
       "      <td>Drama|War</td>\n",
       "    </tr>\n",
       "  </tbody>\n",
       "</table>\n",
       "</div>"
      ],
      "text/plain": [
       "     movieId                                  title                     genres\n",
       "37        41                     Richard III (1995)                  Drama|War\n",
       "65        73                 Misérables, Les (1995)                  Drama|War\n",
       "97       110                      Braveheart (1995)           Action|Drama|War\n",
       "124      151                         Rob Roy (1995)   Action|Drama|Romance|War\n",
       "128      155                  Beyond Rangoon (1995)        Adventure|Drama|War\n",
       "130      157                  Canadian Bacon (1995)                 Comedy|War\n",
       "134      161                    Crimson Tide (1995)         Drama|Thriller|War\n",
       "182      214  Before the Rain (Pred dozhdot) (1994)                  Drama|War\n",
       "229      266             Legends of the Fall (1994)  Drama|Romance|War|Western\n",
       "294      336               Walking Dead, The (1995)                  Drama|War"
      ]
     },
     "execution_count": 38,
     "metadata": {},
     "output_type": "execute_result"
    }
   ],
   "source": [
    "war_movies.head(10)"
   ]
  }
 ],
 "metadata": {
  "kernelspec": {
   "display_name": "uni",
   "language": "python",
   "name": "python3"
  },
  "language_info": {
   "codemirror_mode": {
    "name": "ipython",
    "version": 3
   },
   "file_extension": ".py",
   "mimetype": "text/x-python",
   "name": "python",
   "nbconvert_exporter": "python",
   "pygments_lexer": "ipython3",
   "version": "3.1.0"
  }
 },
 "nbformat": 4,
 "nbformat_minor": 2
}
